{
 "cells": [
  {
   "cell_type": "code",
   "execution_count": 1,
   "id": "9c96c648-cbc6-485f-bd43-948a30233b13",
   "metadata": {},
   "outputs": [],
   "source": [
    "import pandas as pd\n",
    "import numpy as np\n",
    "from sklearn.datasets import fetch_california_housing\n",
    "from sklearn.model_selection import train_test_split\n",
    "from sklearn.preprocessing import StandardScaler\n",
    "from sklearn.linear_model import LinearRegression\n",
    "from sklearn.tree import DecisionTreeRegressor\n",
    "from sklearn.ensemble import RandomForestRegressor, GradientBoostingRegressor\n",
    "from sklearn.svm import SVR\n",
    "from sklearn.metrics import mean_squared_error, mean_absolute_error, r2_score"
   ]
  },
  {
   "cell_type": "markdown",
   "id": "2064e2ee-6913-4486-bb80-7a1a9553dc5b",
   "metadata": {},
   "source": [
    "<span style=\"color:green; font-weight:bold; font-size:24px\">Loading and Preprocessing</span>"
   ]
  },
  {
   "cell_type": "code",
   "execution_count": 6,
   "id": "d82226e0-2ff3-48d0-bb6c-9ad78b9174b7",
   "metadata": {},
   "outputs": [],
   "source": [
    "\n",
    "data = fetch_california_housing()\n",
    "df = pd.DataFrame(data=data.data, columns=data.feature_names)\n",
    "df['MedHouseValue'] = data.target"
   ]
  },
  {
   "cell_type": "markdown",
   "id": "f9357d7d-65e9-4151-8bc1-52d3d40522ed",
   "metadata": {},
   "source": [
    "#### Check for missing values"
   ]
  },
  {
   "cell_type": "code",
   "execution_count": 12,
   "id": "9e520cb3-31d0-480c-aae9-084cdebefcba",
   "metadata": {},
   "outputs": [
    {
     "name": "stdout",
     "output_type": "stream",
     "text": [
      "Missing values:\n",
      " MedInc           0\n",
      "HouseAge         0\n",
      "AveRooms         0\n",
      "AveBedrms        0\n",
      "Population       0\n",
      "AveOccup         0\n",
      "Latitude         0\n",
      "Longitude        0\n",
      "MedHouseValue    0\n",
      "dtype: int64\n"
     ]
    }
   ],
   "source": [
    "print(\"Missing values:\\n\", df.isnull().sum())"
   ]
  },
  {
   "cell_type": "markdown",
   "id": "3b41bbe7-2d98-4e69-b720-9db5789ee929",
   "metadata": {},
   "source": [
    " <span style=\"color:blue; font-weight:bold; font-size:16px\">Missing values can distort model training and lead to errors or misleading results. In this dataset, there are no missing values, so no imputation was needed.</span>"
   ]
  },
  {
   "cell_type": "code",
   "execution_count": 14,
   "id": "bd566b16-9bb3-4dcc-b50f-1f752eb29ebf",
   "metadata": {},
   "outputs": [],
   "source": [
    "X = df.drop('MedHouseValue', axis=1)\n",
    "y = df['MedHouseValue']"
   ]
  },
  {
   "cell_type": "markdown",
   "id": "c96dd50e-2686-4927-855b-a508cad40a2f",
   "metadata": {},
   "source": [
    "#### Split into train and test sets"
   ]
  },
  {
   "cell_type": "code",
   "execution_count": 17,
   "id": "e8495eb2-3374-45cd-9670-015ce20e2418",
   "metadata": {},
   "outputs": [],
   "source": [
    "X_train, X_test, y_train, y_test = train_test_split(X, y, test_size=0.2, random_state=42)"
   ]
  },
  {
   "cell_type": "markdown",
   "id": "99d350b2-d794-469e-a8f6-3e424d868ffc",
   "metadata": {},
   "source": [
    " <span style=\"color:blue; font-weight:bold; font-size:16px\">To evaluate model performance, we need to separate a portion of the data for testing, ensuring the model is evaluated on unseen data to mimic real-world scenarios.</span> "
   ]
  },
  {
   "cell_type": "markdown",
   "id": "679673fe-a1cd-4789-a122-e72fc83b4da9",
   "metadata": {},
   "source": [
    "<span style=\"color:green; font-weight:bold; font-size:24px\">Feature scaling</span>"
   ]
  },
  {
   "cell_type": "code",
   "execution_count": 26,
   "id": "cd78cfe5-dcd6-4bc9-b7bf-f46a685e4611",
   "metadata": {},
   "outputs": [],
   "source": [
    "scaler = StandardScaler()\n",
    "X_train_scaled = scaler.fit_transform(X_train)\n",
    "X_test_scaled = scaler.transform(X_test)"
   ]
  },
  {
   "cell_type": "markdown",
   "id": "68e8d24e-e260-490d-8fa4-21e8f9ddc6c0",
   "metadata": {},
   "source": [
    " <span style=\"color:blue; font-weight:bold; font-size:16px\">Scaling is necessary, especially in Linear Regression, Support Vector Regressor (SVR), and Gradient Boosting, are sensitive to the scale of features.\n",
    "* Features like population and median income have very different ranges, which can lead to biased training if not standardized.\n",
    "* StandardScaler transforms features to have zero mean and unit variance, making training more stable and efficient. </span>"
   ]
  },
  {
   "cell_type": "markdown",
   "id": "6f22b68a-9f5c-4fb3-9214-254d7a3b9f3b",
   "metadata": {},
   "source": [
    "<span style=\"color:green; font-weight:bold; font-size:24px\"> Regression Algorithms </span>"
   ]
  },
  {
   "cell_type": "code",
   "execution_count": 41,
   "id": "247698bd-e3c7-4f5a-9ca6-584a85bedfbc",
   "metadata": {},
   "outputs": [],
   "source": [
    "models = {\n",
    "    \"Linear Regression\": LinearRegression(),\n",
    "    \"Decision Tree Regressor\": DecisionTreeRegressor(random_state=42),\n",
    "    \"Random Forest Regressor\": RandomForestRegressor(random_state=42),\n",
    "    \"Gradient Boosting Regressor\": GradientBoostingRegressor(random_state=42),\n",
    "    \"Support Vector Regressor\": SVR()\n",
    "}\n",
    "\n",
    "results = []\n"
   ]
  },
  {
   "cell_type": "code",
   "execution_count": 43,
   "id": "f20ad7c0-2c96-4131-8ce9-986110a1d3ab",
   "metadata": {},
   "outputs": [],
   "source": [
    "for name, model in models.items():\n",
    "    # Use scaled features for SVR and Linear Regression\n",
    "    if name in [\"Support Vector Regressor\", \"Linear Regression\"]:\n",
    "        model.fit(X_train_scaled, y_train)\n",
    "        y_pred = model.predict(X_test_scaled)\n",
    "    else:\n",
    "        model.fit(X_train, y_train)\n",
    "        y_pred = model.predict(X_test)\n",
    "\n",
    "    mse = mean_squared_error(y_test, y_pred)\n",
    "    mae = mean_absolute_error(y_test, y_pred)\n",
    "    r2 = r2_score(y_test, y_pred)\n",
    "\n",
    "    results.append({\n",
    "        \"Model\": name,\n",
    "        \"MSE\": mse,\n",
    "        \"MAE\": mae,\n",
    "        \"R²\": r2\n",
    "    })"
   ]
  },
  {
   "cell_type": "markdown",
   "id": "e0263387-cb6d-4a5d-8ec9-99111f6d247b",
   "metadata": {},
   "source": [
    "### Convert results to DataFrame"
   ]
  },
  {
   "cell_type": "code",
   "execution_count": 46,
   "id": "ad96096e-0971-4313-99f4-4c902479c4ee",
   "metadata": {},
   "outputs": [
    {
     "name": "stdout",
     "output_type": "stream",
     "text": [
      "\n",
      "Model Evaluation Results:\n",
      "                         Model       MSE       MAE        R²\n",
      "2      Random Forest Regressor  0.255368  0.327543  0.805123\n",
      "3  Gradient Boosting Regressor  0.293997  0.371643  0.775645\n",
      "4     Support Vector Regressor  0.357004  0.398599  0.727563\n",
      "1      Decision Tree Regressor  0.495235  0.454679  0.622076\n",
      "0            Linear Regression  0.555892  0.533200  0.575788\n"
     ]
    }
   ],
   "source": [
    "\n",
    "results_df = pd.DataFrame(results)\n",
    "print(\"\\nModel Evaluation Results:\")\n",
    "print(results_df.sort_values(by=\"R²\", ascending=False))"
   ]
  },
  {
   "cell_type": "markdown",
   "id": "9dcf1cd9-4ecc-4f95-8016-d1e0b6009982",
   "metadata": {},
   "source": [
    " <span style=\"color:green; font-weight:bold; font-size:24px\"> Best and Worst Performing Models</span>"
   ]
  },
  {
   "cell_type": "code",
   "execution_count": 59,
   "id": "aa0a8472-0f91-4f43-b69f-86ea4d31935c",
   "metadata": {},
   "outputs": [],
   "source": [
    "best_model = results_df.loc[results_df['R²'].idxmax()]\n",
    "worst_model = results_df.loc[results_df['R²'].idxmin()]"
   ]
  },
  {
   "cell_type": "markdown",
   "id": "50f0d1b7-3f47-43b9-92c0-5bd7db2a6060",
   "metadata": {},
   "source": [
    " <span style=\"color:blue; font-weight:bold; font-size:16px\"> R² score (coefficient of determination) tells how well the model explains variance in the target variable.\n",
    "Higher is better, with 1.0 being perfect.</span>"
   ]
  },
  {
   "cell_type": "code",
   "execution_count": 51,
   "id": "becd9906-3774-420f-b853-7e57e9966008",
   "metadata": {},
   "outputs": [],
   "source": [
    "from IPython.display import display, HTML"
   ]
  },
  {
   "cell_type": "code",
   "execution_count": 55,
   "id": "eeb4b82f-0abd-4fea-9cf1-aaf2fc143538",
   "metadata": {},
   "outputs": [
    {
     "data": {
      "text/html": [
       "<span style=\"color:blue; font-weight:bold; font-size:18px\">Best Performing Model</span>"
      ],
      "text/plain": [
       "<IPython.core.display.HTML object>"
      ]
     },
     "metadata": {},
     "output_type": "display_data"
    },
    {
     "name": "stdout",
     "output_type": "stream",
     "text": [
      "Model    Random Forest Regressor\n",
      "MSE                     0.255368\n",
      "MAE                     0.327543\n",
      "R²                      0.805123\n",
      "Name: 2, dtype: object\n"
     ]
    }
   ],
   "source": [
    "display(HTML('<span style=\"color:blue; font-weight:bold; font-size:18px\">Best Performing Model</span>'))\n",
    "print(best_model)"
   ]
  },
  {
   "cell_type": "code",
   "execution_count": 57,
   "id": "884135bf-9b16-4fc5-8357-cdce006363cb",
   "metadata": {},
   "outputs": [
    {
     "data": {
      "text/html": [
       "<span style=\"color:blue; font-weight:bold; font-size:18px\">Worst Performing Model</span>"
      ],
      "text/plain": [
       "<IPython.core.display.HTML object>"
      ]
     },
     "metadata": {},
     "output_type": "display_data"
    },
    {
     "name": "stdout",
     "output_type": "stream",
     "text": [
      "Model    Linear Regression\n",
      "MSE               0.555892\n",
      "MAE                 0.5332\n",
      "R²                0.575788\n",
      "Name: 0, dtype: object\n"
     ]
    }
   ],
   "source": [
    "display(HTML('<span style=\"color:blue; font-weight:bold; font-size:18px\">Worst Performing Model</span>'))\n",
    "print(worst_model)"
   ]
  },
  {
   "cell_type": "code",
   "execution_count": null,
   "id": "f6cca4a0-bb99-465a-ba9f-647b7f10a891",
   "metadata": {},
   "outputs": [],
   "source": []
  }
 ],
 "metadata": {
  "kernelspec": {
   "display_name": "Python [conda env:base] *",
   "language": "python",
   "name": "conda-base-py"
  },
  "language_info": {
   "codemirror_mode": {
    "name": "ipython",
    "version": 3
   },
   "file_extension": ".py",
   "mimetype": "text/x-python",
   "name": "python",
   "nbconvert_exporter": "python",
   "pygments_lexer": "ipython3",
   "version": "3.12.7"
  }
 },
 "nbformat": 4,
 "nbformat_minor": 5
}
