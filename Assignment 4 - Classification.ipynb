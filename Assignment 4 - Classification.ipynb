{
 "cells": [
  {
   "cell_type": "code",
   "execution_count": null,
   "id": "c44f34dd-9b19-4b87-8ab3-eaa106121387",
   "metadata": {},
   "outputs": [],
   "source": [
    "#Import necessary libraries"
   ]
  },
  {
   "cell_type": "code",
   "execution_count": 1,
   "id": "80df33a8-5bfe-4909-9967-fdd903ea482a",
   "metadata": {},
   "outputs": [],
   "source": [
    "import pandas as pd\n",
    "import numpy as np\n",
    "from sklearn.datasets import load_breast_cancer\n",
    "from sklearn.model_selection import train_test_split\n",
    "from sklearn.preprocessing import StandardScaler\n",
    "from sklearn.metrics import accuracy_score, classification_report, confusion_matrix"
   ]
  },
  {
   "cell_type": "markdown",
   "id": "d3ebfdce-5df3-4f55-8191-17f399b89262",
   "metadata": {},
   "source": [
    "<span style=\"color:green; font-weight:bold; font-size:24px\">Loading and Preprocessing</span>"
   ]
  },
  {
   "cell_type": "code",
   "execution_count": 3,
   "id": "927627c6-f54a-4371-93ea-8c83121bbf39",
   "metadata": {},
   "outputs": [],
   "source": [
    "data = load_breast_cancer()\n",
    "X = pd.DataFrame(data.data, columns=data.feature_names)\n",
    "y = pd.Series(data.target)"
   ]
  },
  {
   "cell_type": "markdown",
   "id": "fb96fe30-4247-46b1-a2b0-ce74324c180c",
   "metadata": {},
   "source": [
    "#### Check for missing values"
   ]
  },
  {
   "cell_type": "code",
   "execution_count": 7,
   "id": "d6f3e6b1-7d16-4dbc-b4b2-8b25660fc174",
   "metadata": {},
   "outputs": [
    {
     "name": "stdout",
     "output_type": "stream",
     "text": [
      "Missing values:\n",
      " mean radius                0\n",
      "mean texture               0\n",
      "mean perimeter             0\n",
      "mean area                  0\n",
      "mean smoothness            0\n",
      "mean compactness           0\n",
      "mean concavity             0\n",
      "mean concave points        0\n",
      "mean symmetry              0\n",
      "mean fractal dimension     0\n",
      "radius error               0\n",
      "texture error              0\n",
      "perimeter error            0\n",
      "area error                 0\n",
      "smoothness error           0\n",
      "compactness error          0\n",
      "concavity error            0\n",
      "concave points error       0\n",
      "symmetry error             0\n",
      "fractal dimension error    0\n",
      "worst radius               0\n",
      "worst texture              0\n",
      "worst perimeter            0\n",
      "worst area                 0\n",
      "worst smoothness           0\n",
      "worst compactness          0\n",
      "worst concavity            0\n",
      "worst concave points       0\n",
      "worst symmetry             0\n",
      "worst fractal dimension    0\n",
      "dtype: int64\n"
     ]
    }
   ],
   "source": [
    "print(\"Missing values:\\n\", X.isnull().sum())"
   ]
  },
  {
   "cell_type": "markdown",
   "id": "9e380cab-9a68-417c-99f8-922c8266d32f",
   "metadata": {},
   "source": [
    " <span style=\"color:blue; font-weight:bold; font-size:16px\">Missing values can distort model training and lead to errors or misleading results. In this dataset, there are no missing values, so no imputation was needed.</span>"
   ]
  },
  {
   "cell_type": "code",
   "execution_count": 10,
   "id": "2ff2e35d-a3e3-4e23-971b-1b3235a8d64c",
   "metadata": {},
   "outputs": [],
   "source": [
    "scaler = StandardScaler()\n",
    "X_scaled = scaler.fit_transform(X)"
   ]
  },
  {
   "cell_type": "markdown",
   "id": "1b398940-3688-4d4d-a78c-1f88a87af2b7",
   "metadata": {},
   "source": [
    "<span style=\"color:blue; font-weight:bold; font-size:16px\">Feature scaling is essential for algorithms like SVM and KNN that are sensitive to feature magnitudes </span>"
   ]
  },
  {
   "cell_type": "markdown",
   "id": "6cae20d7-af7c-440c-899b-22ba9b42aed1",
   "metadata": {},
   "source": [
    "#### Split into train and test sets"
   ]
  },
  {
   "cell_type": "code",
   "execution_count": 27,
   "id": "67729f95-8d54-4be8-8f91-3247015a16a8",
   "metadata": {},
   "outputs": [],
   "source": [
    "X_train, X_test, y_train, y_test = train_test_split(X_scaled, y, test_size=0.2, random_state=42)"
   ]
  },
  {
   "cell_type": "markdown",
   "id": "755cce24-3d94-4176-8efd-76b08fa6cf59",
   "metadata": {},
   "source": [
    " <span style=\"color:blue; font-weight:bold; font-size:16px\">To evaluate model performance, we need to separate a portion of the data for testing, ensuring the model is evaluated on unseen data to mimic real-world scenarios.</span> "
   ]
  },
  {
   "cell_type": "markdown",
   "id": "76672787-4a8f-4a67-8c5d-2821268857fb",
   "metadata": {},
   "source": [
    "<span style=\"color:green; font-weight:bold; font-size:24px\">Feature scaling</span>"
   ]
  },
  {
   "cell_type": "code",
   "execution_count": 29,
   "id": "5c090da7-d865-4c25-8684-7027814ca00d",
   "metadata": {},
   "outputs": [],
   "source": [
    "#  Models to Implement\n",
    "from sklearn.linear_model import LogisticRegression\n",
    "from sklearn.tree import DecisionTreeClassifier\n",
    "from sklearn.ensemble import RandomForestClassifier\n",
    "from sklearn.svm import SVC\n",
    "from sklearn.neighbors import KNeighborsClassifier"
   ]
  },
  {
   "cell_type": "code",
   "execution_count": 31,
   "id": "14e4fca4-71aa-4eed-8307-2f4bf51d11e6",
   "metadata": {},
   "outputs": [],
   "source": [
    "# Initialize models\n",
    "models = {\n",
    "    \"Logistic Regression\": LogisticRegression(max_iter=10000),\n",
    "    \"Decision Tree\": DecisionTreeClassifier(random_state=42),\n",
    "    \"Random Forest\": RandomForestClassifier(random_state=42),\n",
    "    \"Support Vector Machine\": SVC(),\n",
    "    \"k-Nearest Neighbors\": KNeighborsClassifier()\n",
    "}"
   ]
  },
  {
   "cell_type": "code",
   "execution_count": 33,
   "id": "8b926083-34cc-49ce-bdd9-20397b1ce1b5",
   "metadata": {},
   "outputs": [],
   "source": [
    "#Train, predict, and evaluate models\n",
    "results = []"
   ]
  },
  {
   "cell_type": "code",
   "execution_count": 37,
   "id": "e9fea984-21fb-46a4-aa49-ebdbaa090706",
   "metadata": {},
   "outputs": [],
   "source": [
    "from IPython.display import display, HTML"
   ]
  },
  {
   "cell_type": "code",
   "execution_count": 57,
   "id": "d4705c49-a1ad-4869-9556-5511484a81eb",
   "metadata": {},
   "outputs": [
    {
     "data": {
      "text/html": [
       "<span style=\"color:blue; font-size:18px; font-weight:bold;\">************ Logistic Regression ***********</span>"
      ],
      "text/plain": [
       "<IPython.core.display.HTML object>"
      ]
     },
     "metadata": {},
     "output_type": "display_data"
    },
    {
     "data": {
      "text/html": [
       "<span style=\"color:green; font-size:18px; font-weight:bold;\">Accuracy: 0.97368421</span>"
      ],
      "text/plain": [
       "<IPython.core.display.HTML object>"
      ]
     },
     "metadata": {},
     "output_type": "display_data"
    },
    {
     "name": "stdout",
     "output_type": "stream",
     "text": [
      "Classification Report:\n",
      "               precision    recall  f1-score   support\n",
      "\n",
      "           0       0.98      0.95      0.96        43\n",
      "           1       0.97      0.99      0.98        71\n",
      "\n",
      "    accuracy                           0.97       114\n",
      "   macro avg       0.97      0.97      0.97       114\n",
      "weighted avg       0.97      0.97      0.97       114\n",
      "\n"
     ]
    },
    {
     "data": {
      "text/html": [
       "<span style=\"color:blue; font-size:18px; font-weight:bold;\">************ Decision Tree ***********</span>"
      ],
      "text/plain": [
       "<IPython.core.display.HTML object>"
      ]
     },
     "metadata": {},
     "output_type": "display_data"
    },
    {
     "data": {
      "text/html": [
       "<span style=\"color:green; font-size:18px; font-weight:bold;\">Accuracy: 0.94736842</span>"
      ],
      "text/plain": [
       "<IPython.core.display.HTML object>"
      ]
     },
     "metadata": {},
     "output_type": "display_data"
    },
    {
     "name": "stdout",
     "output_type": "stream",
     "text": [
      "Classification Report:\n",
      "               precision    recall  f1-score   support\n",
      "\n",
      "           0       0.93      0.93      0.93        43\n",
      "           1       0.96      0.96      0.96        71\n",
      "\n",
      "    accuracy                           0.95       114\n",
      "   macro avg       0.94      0.94      0.94       114\n",
      "weighted avg       0.95      0.95      0.95       114\n",
      "\n"
     ]
    },
    {
     "data": {
      "text/html": [
       "<span style=\"color:blue; font-size:18px; font-weight:bold;\">************ Random Forest ***********</span>"
      ],
      "text/plain": [
       "<IPython.core.display.HTML object>"
      ]
     },
     "metadata": {},
     "output_type": "display_data"
    },
    {
     "data": {
      "text/html": [
       "<span style=\"color:green; font-size:18px; font-weight:bold;\">Accuracy: 0.96491228</span>"
      ],
      "text/plain": [
       "<IPython.core.display.HTML object>"
      ]
     },
     "metadata": {},
     "output_type": "display_data"
    },
    {
     "name": "stdout",
     "output_type": "stream",
     "text": [
      "Classification Report:\n",
      "               precision    recall  f1-score   support\n",
      "\n",
      "           0       0.98      0.93      0.95        43\n",
      "           1       0.96      0.99      0.97        71\n",
      "\n",
      "    accuracy                           0.96       114\n",
      "   macro avg       0.97      0.96      0.96       114\n",
      "weighted avg       0.97      0.96      0.96       114\n",
      "\n"
     ]
    },
    {
     "data": {
      "text/html": [
       "<span style=\"color:blue; font-size:18px; font-weight:bold;\">************ Support Vector Machine ***********</span>"
      ],
      "text/plain": [
       "<IPython.core.display.HTML object>"
      ]
     },
     "metadata": {},
     "output_type": "display_data"
    },
    {
     "data": {
      "text/html": [
       "<span style=\"color:green; font-size:18px; font-weight:bold;\">Accuracy: 0.97368421</span>"
      ],
      "text/plain": [
       "<IPython.core.display.HTML object>"
      ]
     },
     "metadata": {},
     "output_type": "display_data"
    },
    {
     "name": "stdout",
     "output_type": "stream",
     "text": [
      "Classification Report:\n",
      "               precision    recall  f1-score   support\n",
      "\n",
      "           0       0.98      0.95      0.96        43\n",
      "           1       0.97      0.99      0.98        71\n",
      "\n",
      "    accuracy                           0.97       114\n",
      "   macro avg       0.97      0.97      0.97       114\n",
      "weighted avg       0.97      0.97      0.97       114\n",
      "\n"
     ]
    },
    {
     "data": {
      "text/html": [
       "<span style=\"color:blue; font-size:18px; font-weight:bold;\">************ k-Nearest Neighbors ***********</span>"
      ],
      "text/plain": [
       "<IPython.core.display.HTML object>"
      ]
     },
     "metadata": {},
     "output_type": "display_data"
    },
    {
     "data": {
      "text/html": [
       "<span style=\"color:green; font-size:18px; font-weight:bold;\">Accuracy: 0.94736842</span>"
      ],
      "text/plain": [
       "<IPython.core.display.HTML object>"
      ]
     },
     "metadata": {},
     "output_type": "display_data"
    },
    {
     "name": "stdout",
     "output_type": "stream",
     "text": [
      "Classification Report:\n",
      "               precision    recall  f1-score   support\n",
      "\n",
      "           0       0.93      0.93      0.93        43\n",
      "           1       0.96      0.96      0.96        71\n",
      "\n",
      "    accuracy                           0.95       114\n",
      "   macro avg       0.94      0.94      0.94       114\n",
      "weighted avg       0.95      0.95      0.95       114\n",
      "\n"
     ]
    }
   ],
   "source": [
    "for name, model in models.items():\n",
    "    model.fit(X_train, y_train)\n",
    "    y_pred = model.predict(X_test)\n",
    "\n",
    "    acc = accuracy_score(y_test, y_pred)\n",
    "    results.append({\"Model\": name, \"Accuracy\": acc})\n",
    "\n",
    "    display(HTML(f'<span style=\"color:blue; font-size:18px; font-weight:bold;\">************ {name} ***********</span>'))\n",
    "    display(HTML(f'<span style=\"color:green; font-size:18px; font-weight:bold;\">Accuracy: {acc:.8f}</span>'))\n",
    "    print(\"Classification Report:\\n\", classification_report(y_test, y_pred))"
   ]
  },
  {
   "cell_type": "markdown",
   "id": "4f1f5ad2-a754-4768-a591-04a9cf545edf",
   "metadata": {},
   "source": [
    "#### Compare Results"
   ]
  },
  {
   "cell_type": "code",
   "execution_count": 76,
   "id": "ecba1cca-b59f-402f-a161-27aa296b40bc",
   "metadata": {},
   "outputs": [
    {
     "name": "stdout",
     "output_type": "stream",
     "text": [
      "\n",
      "\n",
      "\n"
     ]
    },
    {
     "data": {
      "text/html": [
       "<span style=\"color:blue; font-size:18px; font-weight:bold;\">************  Model Performance Comparison: \n",
       " ***********</span>"
      ],
      "text/plain": [
       "<IPython.core.display.HTML object>"
      ]
     },
     "metadata": {},
     "output_type": "display_data"
    },
    {
     "name": "stdout",
     "output_type": "stream",
     "text": [
      "\n",
      "\n",
      "\n",
      "                     Model  Accuracy\n",
      "0      Logistic Regression  0.973684\n",
      "10     Logistic Regression  0.973684\n",
      "20     Logistic Regression  0.973684\n",
      "18  Support Vector Machine  0.973684\n",
      "28  Support Vector Machine  0.973684\n",
      "30     Logistic Regression  0.973684\n",
      "15     Logistic Regression  0.973684\n",
      "13  Support Vector Machine  0.973684\n",
      "33  Support Vector Machine  0.973684\n",
      "23  Support Vector Machine  0.973684\n",
      "35     Logistic Regression  0.973684\n",
      "8   Support Vector Machine  0.973684\n",
      "38  Support Vector Machine  0.973684\n",
      "40     Logistic Regression  0.973684\n",
      "5      Logistic Regression  0.973684\n",
      "3   Support Vector Machine  0.973684\n",
      "43  Support Vector Machine  0.973684\n",
      "25     Logistic Regression  0.973684\n",
      "37           Random Forest  0.964912\n",
      "32           Random Forest  0.964912\n",
      "42           Random Forest  0.964912\n",
      "27           Random Forest  0.964912\n",
      "22           Random Forest  0.964912\n",
      "2            Random Forest  0.964912\n",
      "17           Random Forest  0.964912\n",
      "7            Random Forest  0.964912\n",
      "12           Random Forest  0.964912\n",
      "1            Decision Tree  0.947368\n",
      "11           Decision Tree  0.947368\n",
      "4      k-Nearest Neighbors  0.947368\n",
      "41           Decision Tree  0.947368\n",
      "6            Decision Tree  0.947368\n",
      "39     k-Nearest Neighbors  0.947368\n",
      "9      k-Nearest Neighbors  0.947368\n",
      "36           Decision Tree  0.947368\n",
      "34     k-Nearest Neighbors  0.947368\n",
      "24     k-Nearest Neighbors  0.947368\n",
      "14     k-Nearest Neighbors  0.947368\n",
      "31           Decision Tree  0.947368\n",
      "16           Decision Tree  0.947368\n",
      "29     k-Nearest Neighbors  0.947368\n",
      "19     k-Nearest Neighbors  0.947368\n",
      "26           Decision Tree  0.947368\n",
      "21           Decision Tree  0.947368\n",
      "44     k-Nearest Neighbors  0.947368\n"
     ]
    }
   ],
   "source": [
    "results_df = pd.DataFrame(results)\n",
    "print(\"\\n\\n\")\n",
    "display(HTML(f'<span style=\"color:blue; font-size:18px; font-weight:bold;\">************  Model Performance Comparison: \\n ***********</span>'))\n",
    "print(\"\\n\\n\")\n",
    "print(results_df.sort_values(by=\"Accuracy\", ascending=False))\n",
    "#print(results_df)"
   ]
  },
  {
   "cell_type": "markdown",
   "id": "0958df83-4d90-48dc-9430-c9b962941fda",
   "metadata": {},
   "source": [
    " <span style=\"color:green; font-weight:bold; font-size:24px\"> Best and Worst Performing Models</span>"
   ]
  },
  {
   "cell_type": "code",
   "execution_count": 78,
   "id": "a05553f6-ee37-4709-9f88-957d015f7cd0",
   "metadata": {},
   "outputs": [],
   "source": [
    "best_model = results_df.loc[results_df['Accuracy'].idxmax()]\n",
    "worst_model = results_df.loc[results_df['Accuracy'].idxmin()]"
   ]
  },
  {
   "cell_type": "code",
   "execution_count": 81,
   "id": "b2a0a864-27f6-4e28-945a-86d6ca3f6f46",
   "metadata": {},
   "outputs": [
    {
     "data": {
      "text/html": [
       "<span style=\"color:blue; font-weight:bold; font-size:18px\">Best Performing Model</span>"
      ],
      "text/plain": [
       "<IPython.core.display.HTML object>"
      ]
     },
     "metadata": {},
     "output_type": "display_data"
    },
    {
     "name": "stdout",
     "output_type": "stream",
     "text": [
      "Model       Logistic Regression\n",
      "Accuracy               0.973684\n",
      "Name: 0, dtype: object\n"
     ]
    }
   ],
   "source": [
    "display(HTML('<span style=\"color:blue; font-weight:bold; font-size:18px\">Best Performing Model</span>'))\n",
    "print(best_model)"
   ]
  },
  {
   "cell_type": "code",
   "execution_count": 83,
   "id": "8f06df27-bf04-473b-aef8-502f75da3883",
   "metadata": {},
   "outputs": [
    {
     "data": {
      "text/html": [
       "<span style=\"color:blue; font-weight:bold; font-size:18px\">Worst Performing Model</span>"
      ],
      "text/plain": [
       "<IPython.core.display.HTML object>"
      ]
     },
     "metadata": {},
     "output_type": "display_data"
    },
    {
     "name": "stdout",
     "output_type": "stream",
     "text": [
      "Model       Decision Tree\n",
      "Accuracy         0.947368\n",
      "Name: 1, dtype: object\n"
     ]
    }
   ],
   "source": [
    "display(HTML('<span style=\"color:blue; font-weight:bold; font-size:18px\">Worst Performing Model</span>'))\n",
    "print(worst_model)"
   ]
  },
  {
   "cell_type": "code",
   "execution_count": null,
   "id": "087dd9ef-a792-4370-8e47-fa8524720444",
   "metadata": {},
   "outputs": [],
   "source": []
  }
 ],
 "metadata": {
  "kernelspec": {
   "display_name": "Python [conda env:base] *",
   "language": "python",
   "name": "conda-base-py"
  },
  "language_info": {
   "codemirror_mode": {
    "name": "ipython",
    "version": 3
   },
   "file_extension": ".py",
   "mimetype": "text/x-python",
   "name": "python",
   "nbconvert_exporter": "python",
   "pygments_lexer": "ipython3",
   "version": "3.12.7"
  }
 },
 "nbformat": 4,
 "nbformat_minor": 5
}
